{
 "cells": [
  {
   "cell_type": "code",
   "execution_count": 49,
   "metadata": {},
   "outputs": [
    {
     "name": "stdout",
     "output_type": "stream",
     "text": [
      "0    Finchden: a fortiori in this case; for there t...\n",
      "1    Scout Masters' Manual A handbook especially pr...\n",
      "2    Ought to make any boy happy and will furnish h...\n",
      "3    If anyone who has borrowed a sum of money from...\n",
      "4    If a free man dies intestate, his movable good...\n",
      "Name: Clean Sentence, dtype: object\n",
      "0    0\n",
      "1    0\n",
      "2    1\n",
      "3    1\n",
      "4    0\n",
      "Name: Final Label, dtype: int64\n",
      "total shape (1592, 2)\n",
      "train shape (1273, 2)\n",
      "dev shape (159, 2)\n",
      "test shape (160, 1)\n",
      "train percentage 79.96231155778895\n",
      "dev percentage 9.987437185929648\n",
      "test percentage 10.050251256281408\n"
     ]
    }
   ],
   "source": [
    "# reading the file\n",
    "import pandas as pd\n",
    "from sklearn.model_selection import train_test_split\n",
    "\n",
    "dataset=pd.read_csv(\"/Users/Carolyne/Developer/Mila/Gender_Generalization/Data/Clean_data_labels.csv\",encoding='utf-8')\n",
    "#print(dataset.head())\n",
    "\n",
    "text = dataset['Clean Sentence']\n",
    "print(text.head())\n",
    "\n",
    "label = dataset['Final Label']\n",
    "print(label.head())\n",
    "\n",
    "index = dataset.index.values\n",
    "#print(index)\n",
    "df_bert = pd.DataFrame({'text':text,'label':label})\n",
    "print(\"total shape\",df_bert.shape)\n",
    "\n",
    "\n",
    "#Split data into train/dev/test with 80%/10%/10%\n",
    "\n",
    "\n",
    "# df_bert_train, df_bert_test = train_test_split(df_bert,test_size=0.1, shuffle=True)\n",
    "# df_bert_train, df_bert_dev = train_test_split(df_bert_train, test_size=0.1, shuffle=True)\n",
    "# print(\"train shape\",df_bert_train.shape)\n",
    "# print(\"dev shape\",df_bert_dev.shape)\n",
    "# print(\"test shape\",df_bert_test.shape)\n",
    "\n",
    "df_bert_train, df_bert_test = train_test_split(df_bert,test_size=0.2, shuffle=True)\n",
    "df_bert_dev, df_bert_test = train_test_split(df_bert_test, test_size=0.5, shuffle=True)\n",
    "\n",
    "#label should be specified for train and dev, not test\n",
    "df_bert_test.drop('label',axis=1, inplace=True)\n",
    "\n",
    "print(\"train shape\",df_bert_train.shape)\n",
    "print(\"dev shape\",df_bert_dev.shape)\n",
    "print(\"test shape\",df_bert_test.shape)\n",
    "\n",
    "print(\"train percentage\", (df_bert_train.shape[0]/df_bert.shape[0])*100)\n",
    "print(\"dev percentage\", (df_bert_dev.shape[0]/df_bert.shape[0])*100)\n",
    "print(\"test percentage\", (df_bert_test.shape[0]/df_bert.shape[0])*100)"
   ]
  },
  {
   "cell_type": "code",
   "execution_count": 50,
   "metadata": {},
   "outputs": [],
   "source": [
    "# output tsv file, no header for train and dev\n",
    "df_bert_train.to_csv('train.tsv', sep='\\t', columns = ['text','label'], index=False, header=False)\n",
    "df_bert_dev.to_csv('dev.tsv', sep='\\t', columns = ['text','label'], index=False, header=False)\n",
    "df_bert_test.to_csv('test.tsv', sep='\\t', index=False, header=True)"
   ]
  },
  {
   "cell_type": "code",
   "execution_count": null,
   "metadata": {},
   "outputs": [],
   "source": []
  }
 ],
 "metadata": {
  "kernelspec": {
   "display_name": "Python 3",
   "language": "python",
   "name": "python3"
  },
  "language_info": {
   "codemirror_mode": {
    "name": "ipython",
    "version": 3
   },
   "file_extension": ".py",
   "mimetype": "text/x-python",
   "name": "python",
   "nbconvert_exporter": "python",
   "pygments_lexer": "ipython3",
   "version": "3.6.2"
  }
 },
 "nbformat": 4,
 "nbformat_minor": 2
}
