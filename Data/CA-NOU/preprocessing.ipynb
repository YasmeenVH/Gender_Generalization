{
 "cells": [
  {
   "cell_type": "markdown",
   "metadata": {},
   "source": [
    "### Preprocessing of Noun Verb Dataset\n",
    "https://github.com/google-research-datasets/noun-verb\n",
    "Each line represents a single word with a series of tab-separated fields. _s indicate empty values. \n",
    "\n",
    "ID FORM LEMMA PLEMMA POS PPOS FEAT PFEAT HEAD PHEAD DEPREL PDEPREL"
   ]
  },
  {
   "cell_type": "code",
   "execution_count": 30,
   "metadata": {},
   "outputs": [],
   "source": [
    "import pandas as pd \n",
    "import re\n",
    "\n",
    "def read_file(input_file):\n",
    "    \"\"\"Reads a text file delimited by newline \\n\"\"\"\n",
    "    with open(input_file, \"r\", encoding=\"utf-8-sig\") as f:\n",
    "        sentences = f.read().stip().splitlines()\n",
    "    return sentences\n",
    "\n",
    "def clean_data(data):\n",
    "    clean_data = []\n",
    "    for line in data:\n",
    "        no_digits_data = re.sub(\"\\d+ \",\"\",line) #removes digits + a space\n",
    "        no_brackets = re.sub(\"\\\\[|\\\\]\", \"\", no_digits_data) #removes square brackets\n",
    "        clean_data.append(no_brackets)\n",
    "    return clean_data\n"
   ]
  },
  {
   "cell_type": "code",
   "execution_count": 31,
   "metadata": {},
   "outputs": [],
   "source": [
    "#!pip install conll-df\n",
    "\n",
    "from io import open\n",
    "from conllu import parse\n",
    "from nltk.tokenize.treebank import TreebankWordDetokenizer\n",
    "\n",
    "\n",
    "#data_file = open(\"dev.conll\", \"r\", encoding=\"utf-8\")\n",
    "#for tokenlist in parse_incr(data_file):\n",
    "    #print(tokenlist)\n",
    "\n",
    "def get_sentences(input_file):\n",
    "    sentences = []   \n",
    "    data_file = open(input_file, \"r\", encoding=\"utf-8\")\n",
    "    for tokenlist in data_file:\n",
    "        sentences.append(parse(tokenlist))\n",
    "\n",
    "    tok_sentences = []\n",
    "    for outerList in sentences:\n",
    "        for i,innerList in enumerate(outerList):\n",
    "            if innerList:\n",
    "                if innerList[i][\"id\"] == 1:\n",
    "                    newList=[]\n",
    "                    newList.append(innerList[i][\"form\"])\n",
    "                else:\n",
    "                    newList.append(innerList[i][\"form\"])\n",
    "                    if innerList[i][\"form\"] == \".\": \n",
    "                        tok_sentences.append(newList)\n",
    "    # untokenize\n",
    "    untokenized = []\n",
    "    for sentence in tok_sentences:\n",
    "        untokenized.append(''.join(sentence))\n",
    "        #untokenized.append(TreebankWordDetokenizer().detokenize(sentence))\n",
    "    print(\"Length \"+input_file+\": \",len(untokenized))\n",
    "    return untokenized"
   ]
  },
  {
   "cell_type": "code",
   "execution_count": 32,
   "metadata": {},
   "outputs": [
    {
     "name": "stdout",
     "output_type": "stream",
     "text": [
      "Length dev.conll:  2091\n",
      "Length train.conll:  18641\n",
      "Length test.conll:  5220\n"
     ]
    }
   ],
   "source": [
    "dev = get_sentences(\"dev.conll\")\n",
    "train = get_sentences(\"train.conll\")\n",
    "test = get_sentences(\"test.conll\")\n"
   ]
  },
  {
   "cell_type": "code",
   "execution_count": 33,
   "metadata": {},
   "outputs": [
    {
     "name": "stdout",
     "output_type": "stream",
     "text": [
      "final size:  25952\n"
     ]
    }
   ],
   "source": [
    "clean_dataset = dev+train+test\n",
    "print(\"final size: \",len(clean_dataset))"
   ]
  },
  {
   "cell_type": "code",
   "execution_count": 34,
   "metadata": {},
   "outputs": [],
   "source": [
    "with open(\"CA-NOU.txt\", \"w\") as f:\n",
    "    for line in clean_dataset:\n",
    "        f.write(\"%s\\n\" % line)"
   ]
  },
  {
   "cell_type": "code",
   "execution_count": null,
   "metadata": {},
   "outputs": [],
   "source": []
  },
  {
   "cell_type": "code",
   "execution_count": null,
   "metadata": {},
   "outputs": [],
   "source": []
  },
  {
   "cell_type": "code",
   "execution_count": null,
   "metadata": {},
   "outputs": [],
   "source": []
  },
  {
   "cell_type": "code",
   "execution_count": null,
   "metadata": {},
   "outputs": [],
   "source": [
    "\n"
   ]
  },
  {
   "cell_type": "code",
   "execution_count": null,
   "metadata": {},
   "outputs": [],
   "source": []
  },
  {
   "cell_type": "code",
   "execution_count": null,
   "metadata": {},
   "outputs": [],
   "source": []
  },
  {
   "cell_type": "code",
   "execution_count": null,
   "metadata": {},
   "outputs": [],
   "source": []
  }
 ],
 "metadata": {
  "kernelspec": {
   "display_name": "Python 3",
   "language": "python",
   "name": "python3"
  },
  "language_info": {
   "codemirror_mode": {
    "name": "ipython",
    "version": 3
   },
   "file_extension": ".py",
   "mimetype": "text/x-python",
   "name": "python",
   "nbconvert_exporter": "python",
   "pygments_lexer": "ipython3",
   "version": "3.6.2"
  }
 },
 "nbformat": 4,
 "nbformat_minor": 2
}
