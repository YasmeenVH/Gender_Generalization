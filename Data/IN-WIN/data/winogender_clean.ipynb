{
 "cells": [
  {
   "cell_type": "code",
   "execution_count": 1,
   "metadata": {},
   "outputs": [],
   "source": [
    "import pandas as pd \n",
    "import csv\n",
    "    "
   ]
  },
  {
   "cell_type": "code",
   "execution_count": 14,
   "metadata": {},
   "outputs": [],
   "source": [
    "#convert tsv to csv\n",
    "tsv_file='all_sentences.tsv'\n",
    "csv_table=pd.read_table(tsv_file,sep='\\t')\n",
    "csv_table.to_csv('sentences.csv',index=False)"
   ]
  },
  {
   "cell_type": "code",
   "execution_count": 16,
   "metadata": {},
   "outputs": [],
   "source": [
    "#remove first column\n",
    "f=pd.read_csv(\"sentences.csv\")\n",
    "keep_col = ['sentence']\n",
    "new_f = f[keep_col]\n",
    "new_f.to_csv(\"sentences.csv\", index=False, header=0)"
   ]
  },
  {
   "cell_type": "code",
   "execution_count": 12,
   "metadata": {},
   "outputs": [],
   "source": [
    "'''\n",
    "Change \"The\"/\"the\" for \"A\" or \"a\"\n",
    "filename = 'sentences_only.csv'                                                  \n",
    "with open(filename, 'r') as file_text:            \n",
    "    lines = file_text.readlines()                \n",
    "    newlines = []                                 \n",
    "    for line in lines:                            \n",
    "        newline = line.replace(\"The\",\"A\") \n",
    "        newlinw = line.replace(\"the\",\"a\")\n",
    "        newlines.append(newline)                  \n",
    "with open(filename, 'w') as file_text:           \n",
    "    file_text.writelines(newlines)    \n",
    "''''''\n"
   ]
  },
  {
   "cell_type": "code",
   "execution_count": null,
   "metadata": {},
   "outputs": [],
   "source": []
  },
  {
   "cell_type": "code",
   "execution_count": null,
   "metadata": {},
   "outputs": [],
   "source": []
  }
 ],
 "metadata": {
  "kernelspec": {
   "display_name": "Python 3",
   "language": "python",
   "name": "python3"
  },
  "language_info": {
   "codemirror_mode": {
    "name": "ipython",
    "version": 3
   },
   "file_extension": ".py",
   "mimetype": "text/x-python",
   "name": "python",
   "nbconvert_exporter": "python",
   "pygments_lexer": "ipython3",
   "version": "3.6.4"
  }
 },
 "nbformat": 4,
 "nbformat_minor": 2
}
