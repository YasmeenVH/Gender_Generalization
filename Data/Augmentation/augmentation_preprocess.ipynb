{
 "cells": [
  {
   "cell_type": "code",
   "execution_count": 11,
   "metadata": {},
   "outputs": [],
   "source": [
    "import pandas as pd\n",
    "import csv"
   ]
  },
  {
   "cell_type": "code",
   "execution_count": 12,
   "metadata": {},
   "outputs": [],
   "source": [
    "# clean IN-WIN\n",
    "def logic1(index):\n",
    "    if (index+1) % 3 == 0 and ((index+1)/3) % 2 != 0:\n",
    "        return False\n",
    "    return True\n",
    "\n",
    "df1 = pd.read_csv('C:\\\\Users\\\\inesi\\\\Biasly\\\\Biasly\\\\Gender_Generalization\\\\Data\\\\IN-WIN\\\\data\\\\sentences.csv',\n",
    "               header=None, skiprows= lambda x: logic1(x))\n",
    "\n",
    "df1.to_csv('C:\\\\Users\\\\inesi\\\\Biasly\\\\Biasly\\\\Gender_Generalization\\\\Data\\\\Augmentation\\\\inwin.csv', \n",
    "          index=False)"
   ]
  },
  {
   "cell_type": "code",
   "execution_count": 13,
   "metadata": {
    "scrolled": true
   },
   "outputs": [],
   "source": [
    "#clean AN-CAN\n",
    "def logic2(index):\n",
    "    if index % 3 == 1:\n",
    "        return False\n",
    "    return True\n",
    "    \n",
    "df2 = pd.read_csv('C:\\\\Users\\\\inesi\\\\Biasly\\\\Biasly\\\\Gender_Generalization\\\\Data\\\\AN-CAN\\\\cleaned.csv',\n",
    "                 header=None, skiprows = lambda x: logic2(x))\n",
    "df2 = df2[:-30]\n",
    "df2.to_csv('C:\\\\Users\\\\inesi\\\\Biasly\\\\Biasly\\\\Gender_Generalization\\\\Data\\\\Augmentation\\\\ancan.csv',\n",
    "         header=['Original sentence'], index=False)"
   ]
  },
  {
   "cell_type": "code",
   "execution_count": 14,
   "metadata": {},
   "outputs": [],
   "source": [
    "# Convert CA-WIN data to csv and clean\n",
    "df3 = pd.read_csv('C:\\\\Users\\\\inesi\\\\Biasly\\\\Biasly\\\\Gender_Generalization\\\\Data\\\\CA-WIN\\\\CA-WIN_original_no_brackets.txt',\n",
    "                sep='\\n', header=None)\n",
    "df3.to_csv('C:\\\\Users\\\\inesi\\\\Biasly\\\\Biasly\\\\Gender_Generalization\\\\Data\\\\Augmentation\\\\cawin.csv',\n",
    "          header=['Original sentence'], index=False)"
   ]
  },
  {
   "cell_type": "code",
   "execution_count": 15,
   "metadata": {
    "scrolled": true
   },
   "outputs": [],
   "source": [
    "# Merge files \n",
    "li = [df1,df2,df3]\n",
    "frame = pd.concat(li,axis=0,ignore_index=True)\n",
    "out_csv = frame.to_csv('C:\\\\Users\\\\inesi\\\\Biasly\\\\Biasly\\\\Gender_Generalization\\\\Data\\\\Augmentation\\\\to_augment.csv',\n",
    "         index=False, header=[\"Original sentence\"])\n",
    "\n",
    "    "
   ]
  },
  {
   "cell_type": "code",
   "execution_count": null,
   "metadata": {},
   "outputs": [],
   "source": []
  },
  {
   "cell_type": "code",
   "execution_count": null,
   "metadata": {},
   "outputs": [],
   "source": []
  }
 ],
 "metadata": {
  "kernelspec": {
   "display_name": "Python 3",
   "language": "python",
   "name": "python3"
  },
  "language_info": {
   "codemirror_mode": {
    "name": "ipython",
    "version": 3
   },
   "file_extension": ".py",
   "mimetype": "text/x-python",
   "name": "python",
   "nbconvert_exporter": "python",
   "pygments_lexer": "ipython3",
   "version": "3.6.4"
  }
 },
 "nbformat": 4,
 "nbformat_minor": 2
}
