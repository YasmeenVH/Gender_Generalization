{
 "cells": [
  {
   "cell_type": "code",
   "execution_count": 20,
   "metadata": {},
   "outputs": [
    {
     "name": "stdout",
     "output_type": "stream",
     "text": [
      "Size 1592\n",
      "total shape (1592, 2)\n"
     ]
    }
   ],
   "source": [
    "# reading the file\n",
    "import pandas as pd\n",
    "\n",
    "dataset=pd.read_csv(\"./Clean_data_labels.csv\",encoding='utf-8')\n",
    "#print(dataset.head())\n",
    "\n",
    "#text = dataset['Clean Sentence'].values.tolist()\n",
    "text = dataset['Clean Sentence']\n",
    "#print(text)\n",
    "print(\"Size\", len(text))\n",
    "label = dataset['Final Label']\n",
    "#print(label.head())\n",
    "\n",
    "index = dataset.index.values\n",
    "#print(index)\n",
    "df = pd.DataFrame({'text':text,'label':label})\n",
    "print(\"total shape\",df.shape)\n",
    "df.to_csv(\"CA-GEN_with_header.tsv\", sep=\"\\t\",header=True,columns=[\"text\",\"label\"],index=None)"
   ]
  },
  {
   "cell_type": "code",
   "execution_count": null,
   "metadata": {},
   "outputs": [],
   "source": [
    "#with open(\"CA-GEN.txt\", \"w\") as f:\n",
    "    #for line in clean_dataset:\n",
    "        #f.write(\"%s\\n\" % line)"
   ]
  }
 ],
 "metadata": {
  "kernelspec": {
   "display_name": "Python 3",
   "language": "python",
   "name": "python3"
  },
  "language_info": {
   "codemirror_mode": {
    "name": "ipython",
    "version": 3
   },
   "file_extension": ".py",
   "mimetype": "text/x-python",
   "name": "python",
   "nbconvert_exporter": "python",
   "pygments_lexer": "ipython3",
   "version": "3.6.2"
  }
 },
 "nbformat": 4,
 "nbformat_minor": 2
}
