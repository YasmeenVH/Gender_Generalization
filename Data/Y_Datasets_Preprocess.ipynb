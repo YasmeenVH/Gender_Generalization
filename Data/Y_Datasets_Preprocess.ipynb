{
 "cells": [
  {
   "cell_type": "code",
   "execution_count": 24,
   "metadata": {},
   "outputs": [
    {
     "name": "stderr",
     "output_type": "stream",
     "text": [
      "[nltk_data] Downloading package punkt to\n",
      "[nltk_data]     C:\\Users\\Y\\AppData\\Roaming\\nltk_data...\n",
      "[nltk_data]   Package punkt is already up-to-date!\n",
      "[nltk_data] Downloading package words to\n",
      "[nltk_data]     C:\\Users\\Y\\AppData\\Roaming\\nltk_data...\n",
      "[nltk_data]   Package words is already up-to-date!\n"
     ]
    }
   ],
   "source": [
    "# IMPORTS\n",
    "\n",
    "import pandas as pd\n",
    "import numpy as np\n",
    "import re\n",
    "import pprint\n",
    "import nltk\n",
    "nltk.download('punkt')\n",
    "from nltk.tokenize import sent_tokenize\n",
    "from nltk import ne_chunk, pos_tag\n",
    "nltk.download('words')\n",
    "from nltk.corpus import words as nltk_words\n",
    "import allennlp\n",
    "import six\n",
    "from itertools import chain\n",
    "\n"
   ]
  },
  {
   "cell_type": "markdown",
   "metadata": {},
   "source": [
    "# Sex in the city dataset"
   ]
  },
  {
   "cell_type": "code",
   "execution_count": 17,
   "metadata": {},
   "outputs": [
    {
     "name": "stdout",
     "output_type": "stream",
     "text": [
      "['Once upon a time, an English journalist came to New York.', 'Elizabeth was attractive and bright.', \"Right away she hooked up with one of the city's typically eligible bachelors.\", 'The question remains-- Is this really a company we want to own? ', 'Tim was 42, a well-liked and respected investment banker who made about two million a year.', 'They met one evening, in typical New York fashion at a gallery opening.', 'Like it? ', \"Yes, actually. I think it's quite interesting. What?\", ' I feel like I know you from somewhere.', 'Doubtful. I only just moved here from London.']\n",
      "<class 'str'>\n"
     ]
    }
   ],
   "source": [
    "# LOAD SEX IN THE CITY\n",
    "\n",
    "df = pd.read_csv(r'C:\\Users\\Y\\Documents\\MILA\\Gender_Generalization\\Data\\SATC_all_lines.csv')\n",
    "data = df['Line'].tolist()\n",
    "print(data[:10])\n",
    "print(type(data[0]))"
   ]
  },
  {
   "cell_type": "code",
   "execution_count": 26,
   "metadata": {},
   "outputs": [
    {
     "name": "stdout",
     "output_type": "stream",
     "text": [
      "[['Once upon a time, an English journalist came to New York.'], ['Elizabeth was attractive and bright.'], [\"Right away she hooked up with one of the city's typically eligible bachelors.\"], ['The question remains-- Is this really a company we want to own?'], ['Tim was 42, a well-liked and respected investment banker who made about two million a year.'], ['They met one evening, in typical New York fashion at a gallery opening.'], ['Like it?'], ['Yes, actually.', \"I think it's quite interesting.\", 'What?'], [' I feel like I know you from somewhere.'], ['Doubtful.', 'I only just moved here from London.']]\n",
      "<class 'list'>\n"
     ]
    }
   ],
   "source": [
    "# VALIDATE IF ALL df['Line'] = STRING & TOKENIZE SENTENCE\n",
    "sentences = []\n",
    "for s in data:\n",
    "    if isinstance(s, six.string_types):\n",
    "        sent = sent_tokenize(s)\n",
    "        sentences.append(sent)\n",
    "\n",
    "print (sentences[:10])\n",
    "print(type(sentences))"
   ]
  },
  {
   "cell_type": "code",
   "execution_count": 27,
   "metadata": {},
   "outputs": [
    {
     "name": "stdout",
     "output_type": "stream",
     "text": [
      "['Once upon a time, an English journalist came to New York.', 'Elizabeth was attractive and bright.', \"Right away she hooked up with one of the city's typically eligible bachelors.\", 'The question remains-- Is this really a company we want to own?', 'Tim was 42, a well-liked and respected investment banker who made about two million a year.', 'They met one evening, in typical New York fashion at a gallery opening.', 'Like it?', 'Yes, actually.', \"I think it's quite interesting.\", 'What?', ' I feel like I know you from somewhere.', 'Doubtful.', 'I only just moved here from London.', 'London?', 'Really?', \"That's my all-time favorite city.\", '- It is?', 'Absolutely.', 'It was love at first sight.', 'You know I think perhaps I have met you somewhere before.']\n"
     ]
    }
   ],
   "source": [
    "# MAKE ONE LIST AND NOT NESTED BEFORE PREPROCESSING\n",
    "flat_list = []\n",
    "for sublist in sentences:\n",
    "    for item in sublist:\n",
    "        flat_list.append(item)\n",
    "        \n",
    "print(flat_list[:20])"
   ]
  },
  {
   "cell_type": "code",
   "execution_count": 34,
   "metadata": {},
   "outputs": [
    {
     "name": "stdout",
     "output_type": "stream",
     "text": [
      "['Let me get the door for you, miss.', \"I was hoping you'd stay over.\", \"Look, Sean I don't think this is gonna work.\", \"You obviously want to get married and I don't know what I want.\", 'You could smell my desperation, right?', \"It's just I was trying you on.\", 'All I hear is I want to get married.', 'And none of you says yes.', \"I'm so tired of going through women.\", 'I just want to get married.', \"I may know someone who's perfect for you.\", 'They started out casual a brunch here, a concert there.', 'But pretty soon they were visiting china.', 'I always wanted this pattern for formal dining.', 'Charlotte broke it off then and there.', 'He was American Classic; she was French Country.', 'Your friend never called like she promised.', 'As I sifted through the rubble of my marriage skirmish I had a thought.', 'Maybe the fight between marrieds and singles is like the war in Northern lreland.', \"We're all basically the same but somehow we wound up on different sides.\", \"Sure, it'd be great to have that one special person to walk home with but sometimes there's nothing better than meeting your single girlfriends for a night at the movies.\", 'Once upon a time in a kingdom far away a certain man and a slightly less certain woman kept bumping into one another.', 'It was almost as if they were dating accidentally.', \"And then, after another chance meeting at a wealthy lawyer's new son's Bris they decided to pick a time to bump into each other on purpose.\", 'The hottest new restaurant in Manhattan.', 'He had her big three: Iooks, manners, money.', 'Did I tell you he wants to buy a painting from my gallery?', 'He said, Meet me Meet me for a drink thing.', 'He never used the D word.', 'I mean, thing comes before date.', \"I don't know how you can date that younger guy.\", \"Here, will you listen to this and tell me if you can figure out whether he's not meeting me as a date or as a friend.\", 'Sometimes you need a second opinion with doctors, real estate, men.', 'And I finished first in my litigation class.', 'How pathetic do I feel asking you if a guy kind of likes me?', 'Carrie, Miranda this is the hottest chef in New York, Jon.', \"His blue crab strudel was so fabulous, he didn't need one.\", 'And this is his very cute friend Sam.', 'Can I get you a drink?', \"No problem, 'cause the bartender's a buddy of mine.\", 'Twenty something guys always know the really important B people.', \"Did I mention I'm sleeping with him?\", 'They stopped making martinis, so I got us two rum and Cokes.', 'Well, I hate rum and I hate Coke.But thanks.', 'I was a waiter at TGIF.', 'Can you narrow that down a little bit?', \"I've been looking all over for you.\", 'Here you are, holding a tongue.', \"Well, your message said you weren't coming.\", \"I thought I said I'd try to make it for an hour.\", 'Yeah, but then you said that What did I say?', \"You're here, you have an hour.\", \"I was outside trying to get in for minutes inside looking for you for leaving me with just enough time to tell you that I'm out of time.\", \"Men in their are like the New York Times Sunday crossword puzzle: tricky, complicated and you're never really sure you've got the right answer.\", 'Do you want to get out of here?', 'A short cab ride later Samantha, Jon no H , Sam and l found ourselves at the nearby twenty something club.', \"I can't believe you made Jon leave his own opening.\", 'He is way too happening to be seen someplace borderline tired.', 'Hot places had the life span of a medfly.', 'Samantha, everybody in here is in their .', 'As I glanced around the room, I was amazed at the wide variety of great twenty something guys.', \"I'm not too heavy, am l?\", 'As we took a swig from our pony necked beers I remembered another type of twenty something guy.', \"So, what's it like to kiss with that thing in?\", 'I have been fucked every way you can be fucked.', \"If you keep talking like that, I'm gonna charge you by the minute.\", 'As I searched for my morning Marlboro Light Samantha proceeded to give me a rundown of her night with Jon no H, no inhibitions.', 'We did it with him on top, me on top, me on my side.', 'On his back, on his side, on his face.', 'These guys in their twenties, they are up for anything.', 'How did it go with you and Sam?', 'We just kissed for five hours at the club, in front of the club, on the corner of the club.', 'I forgot how much fun it is to just kiss, you know even if I did only get two hours sleep.', 'As Samantha went on about her sexual escapades I glanced down at my arm.', \"There it was in Bic blue twenty something Sam's phone number.\", \"I had this sudden urge to call, but I'd just left him.\", 'Hell, my lips were still swollen.', 'Are men in their twenties the new designer drug?', \"Yes, Samantha, Miranda and I were all recreational users but were we getting into something we couldn't handle?\", 'Okay, we were attracted to younger men for various reasons.', \"But I couldn't help but wonder: What do they see in us?\", 'Women in their thirties are just so grateful.', \"It's like every bullshit nice thing you do is like throwing food to the starving.\", 'They give great head and know a lot about wine.', 'They remind me of my mom.', 'They know who they are and what they want, and I like that.', 'Later that week, Miranda and I compared notes.', \"Shouldn't we be dating men our own age?\", 'There are no available men in their thirties in New York.', 'Giuliani had them removed along with the homeless.', \"Then what's really going on here?\", 'ls it younger men feel safer?', \"What's really going on here is sex.\", 'Good old fashioned, eager to please do what l tell you to, Eagle Scout sex.', \"It's not like we're throwing out our schedules or anything.\", \"I'm late for a meeting with my editor.\", \"I didn't wanna tell her I cancelled lunch with my editor to go to Banana Republic and help twenty something Sam pick out a shirt.\", \"As I helped him try them on, I thought He's sweet, he's fun, and I think he likes me.\", 'Could he be more than a fling?', 'Could he be a potential boyfriend?']\n"
     ]
    }
   ],
   "source": [
    "# FINAL PREPROCESS FOR SEX IN THE CITY\n",
    "clean_sent = preprocess(flat_list)\n",
    "\n",
    "print(clean_sent[600:700])\n",
    "sex_and_city = makecsv(clean_sent)"
   ]
  },
  {
   "cell_type": "markdown",
   "metadata": {},
   "source": [
    "# Preprocessing functions"
   ]
  },
  {
   "cell_type": "code",
   "execution_count": 30,
   "metadata": {},
   "outputs": [],
   "source": [
    "# PREPROCESSING FUNCTION\n",
    "def preprocess(sentences):\n",
    "    clean_sentences = []\n",
    "    for s in sentences:\n",
    "        new_s = re.sub(r'\\n+', ' ', s)                  # remove breakline\n",
    "        #new_s = re.sub(r'\\([^)]*\\)',' ',new_s)\n",
    "        new_s = re.sub(r'[^\\w\\/,:;.?\\\\\\']', ' ', new_s) # removes all weird characters except punctuations\n",
    "        new_s = new_s.replace(\"//\", \"\")                 # remove quotation marks\n",
    "        new_s = re.sub(r'\\d+.', '',new_s)               # removes number followed by a .\n",
    "        new_s = re.sub(r'/\\s\\s+/g', ' ', new_s)     \n",
    "        new_s = new_s.replace('/', '')                  # removes forward slash\n",
    "        new_s = new_s.replace('_', '')\n",
    "        new_s = re.sub(r' +',' ',new_s)                 # removes extra spaces \n",
    "        new_s = new_s.lstrip()                          # removes spaces at the beginning of a string\n",
    "        new_s = new_s.rstrip()                          # removes spaces at the end of a string\n",
    "        wordcount = len(new_s.split())\n",
    "        if new_s !='' and wordcount > 5:                 # sentences < 5 words are rejected\n",
    "            clean_sentences.append(new_s)\n",
    "    return(clean_sentences) "
   ]
  },
  {
   "cell_type": "markdown",
   "metadata": {},
   "source": [
    "# Make into .csv file"
   ]
  },
  {
   "cell_type": "code",
   "execution_count": 33,
   "metadata": {},
   "outputs": [],
   "source": [
    "# CSV\n",
    "def makecsv(sent_list):\n",
    "    df = pd.DataFrame(sent_list)\n",
    "    df.to_csv(\"Ready_2_Filter\", header=False,index=None)\n",
    "    return df"
   ]
  },
  {
   "cell_type": "code",
   "execution_count": null,
   "metadata": {},
   "outputs": [],
   "source": []
  }
 ],
 "metadata": {
  "kernelspec": {
   "display_name": "Python 3",
   "language": "python",
   "name": "python3"
  },
  "language_info": {
   "codemirror_mode": {
    "name": "ipython",
    "version": 3
   },
   "file_extension": ".py",
   "mimetype": "text/x-python",
   "name": "python",
   "nbconvert_exporter": "python",
   "pygments_lexer": "ipython3",
   "version": "3.6.5"
  }
 },
 "nbformat": 4,
 "nbformat_minor": 2
}
