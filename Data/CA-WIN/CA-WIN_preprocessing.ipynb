{
 "cells": [
  {
   "cell_type": "markdown",
   "metadata": {},
   "source": [
    "### Preprocessing of WinoBias\n",
    "https://github.com/uclanlp/corefBias/tree/master/WinoBias/wino/data"
   ]
  },
  {
   "cell_type": "code",
   "execution_count": 64,
   "metadata": {},
   "outputs": [],
   "source": [
    "import pandas as pd \n",
    "import re\n",
    "\n",
    "def read_file(input_file):\n",
    "    \"\"\"Reads a text file delimited by newline \\n\"\"\"\n",
    "    with open(input_file, \"r\", encoding=\"utf-8-sig\") as f:\n",
    "        sentences = f.read().splitlines()\n",
    "    return sentences\n",
    "\n",
    "def clean_data(data):\n",
    "    clean_data = []\n",
    "    for line in data:\n",
    "        no_digits_data = re.sub(\"\\d+ \",\"\",line) #removes digits + a space\n",
    "        no_brackets = re.sub(\"\\\\[|\\\\]\", \"\", no_digits_data) #removes square brackets\n",
    "        clean_data.append(no_brackets)\n",
    "    return clean_data\n"
   ]
  },
  {
   "cell_type": "code",
   "execution_count": 65,
   "metadata": {},
   "outputs": [],
   "source": [
    "anti_type1_dev = read_file(\"anti_stereotyped_type1.txt.dev\")\n",
    "anti_type1_dev_clean = clean_data(anti_type1_dev)\n",
    "#print(anti_type1_dev_clean)"
   ]
  },
  {
   "cell_type": "code",
   "execution_count": 66,
   "metadata": {},
   "outputs": [],
   "source": [
    "anti_type1_test = read_file(\"anti_stereotyped_type1.txt.test\")\n",
    "anti_type1_test_clean = clean_data(anti_type1_test)\n",
    "#print(anti_type1_test_clean)"
   ]
  },
  {
   "cell_type": "code",
   "execution_count": 67,
   "metadata": {},
   "outputs": [],
   "source": [
    "anti_type2_dev = read_file(\"anti_stereotyped_type2.txt.dev\")\n",
    "anti_type2_dev_clean = clean_data(anti_type2_dev)\n",
    "#print(anti_type2_dev_clean)"
   ]
  },
  {
   "cell_type": "code",
   "execution_count": 68,
   "metadata": {},
   "outputs": [],
   "source": [
    "anti_type2_test = read_file(\"anti_stereotyped_type2.txt.test\")\n",
    "anti_type2_test_clean = clean_data(anti_type2_test)\n",
    "#print(anti_type2_test_clean)"
   ]
  },
  {
   "cell_type": "code",
   "execution_count": 69,
   "metadata": {},
   "outputs": [],
   "source": [
    "pro_type1_dev = read_file(\"pro_stereotyped_type1.txt.dev\")\n",
    "pro_type1_dev_clean = clean_data(pro_type1_dev)\n",
    "#print(pro_type1_dev_clean)"
   ]
  },
  {
   "cell_type": "code",
   "execution_count": 70,
   "metadata": {},
   "outputs": [],
   "source": [
    "pro_type1_test = read_file(\"pro_stereotyped_type1.txt.test\")\n",
    "pro_type1_test_clean = clean_data(pro_type1_test)\n",
    "#print(pro_type1_test_clean)"
   ]
  },
  {
   "cell_type": "code",
   "execution_count": 71,
   "metadata": {},
   "outputs": [],
   "source": [
    "pro_type2_dev = read_file(\"pro_stereotyped_type2.txt.dev\")\n",
    "pro_type2_dev_clean = clean_data(pro_type2_dev)\n",
    "#print(pro_type2_dev_clean)"
   ]
  },
  {
   "cell_type": "code",
   "execution_count": 72,
   "metadata": {},
   "outputs": [],
   "source": [
    "pro_type2_test = read_file(\"pro_stereotyped_type2.txt.test\")\n",
    "pro_type2_test_clean = clean_data(pro_type2_test)\n",
    "#print(pro_type2_test_clean)"
   ]
  },
  {
   "cell_type": "code",
   "execution_count": 73,
   "metadata": {},
   "outputs": [],
   "source": [
    "clean_dataset = anti_type1_dev_clean + anti_type1_test_clean + anti_type2_dev_clean + anti_type2_test_clean + pro_type1_dev_clean + pro_type1_test_clean + pro_type2_dev_clean + pro_type2_test_clean  "
   ]
  },
  {
   "cell_type": "code",
   "execution_count": 74,
   "metadata": {},
   "outputs": [
    {
     "name": "stdout",
     "output_type": "stream",
     "text": [
      "3168\n"
     ]
    }
   ],
   "source": [
    "print(len(clean_dataset))\n",
    "#print(clean_dataset)\n",
    "\n",
    "with open(\"CA-WIN_original_no_brackets.txt\", \"w\") as f:\n",
    "    for line in clean_dataset:\n",
    "        f.write(\"%s\\n\" % line)\n"
   ]
  },
  {
   "cell_type": "code",
   "execution_count": 82,
   "metadata": {},
   "outputs": [
    {
     "name": "stdout",
     "output_type": "stream",
     "text": [
      "2930\n"
     ]
    }
   ],
   "source": [
    "data = pd.read_csv(\"CA-WIN_df\", index_col=0, header=0)\n",
    "data.head()\n",
    "#data[data['Final candidates'] == 1]['Sentences'].to_csv(self.final_candidates_filename, header=False, index=None)\n",
    "#print(len(data[data['Final candidates'] == 1]['Sentences']))\n",
    "print(len(data['Final candidates'] == 1))"
   ]
  },
  {
   "cell_type": "code",
   "execution_count": null,
   "metadata": {},
   "outputs": [],
   "source": []
  }
 ],
 "metadata": {
  "kernelspec": {
   "display_name": "Python 3",
   "language": "python",
   "name": "python3"
  },
  "language_info": {
   "codemirror_mode": {
    "name": "ipython",
    "version": 3
   },
   "file_extension": ".py",
   "mimetype": "text/x-python",
   "name": "python",
   "nbconvert_exporter": "python",
   "pygments_lexer": "ipython3",
   "version": "3.6.2"
  }
 },
 "nbformat": 4,
 "nbformat_minor": 2
}
